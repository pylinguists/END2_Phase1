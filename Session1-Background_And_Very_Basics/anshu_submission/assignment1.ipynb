{
  "nbformat": 4,
  "nbformat_minor": 0,
  "metadata": {
    "colab": {
      "name": "assignment1.ipynb",
      "provenance": []
    },
    "kernelspec": {
      "name": "python3",
      "display_name": "Python 3"
    },
    "language_info": {
      "name": "python"
    }
  },
  "cells": [
    {
      "cell_type": "code",
      "metadata": {
        "colab": {
          "base_uri": "https://localhost:8080/"
        },
        "id": "aHMidzauqWq_",
        "outputId": "6f2d969d-1ef8-408f-88ed-5dfb86124519"
      },
      "source": [
        "import torch\n",
        "from torch.autograd import Variable\n",
        "import torch.nn as nn\n",
        "import torch.nn.functional as F\n",
        "import torch.optim as optim\n",
        "import numpy as np\n",
        "import matplotlib.pyplot as plt\n",
        "%matplotlib inline\n",
        "torch.manual_seed(2)"
      ],
      "execution_count": 25,
      "outputs": [
        {
          "output_type": "execute_result",
          "data": {
            "text/plain": [
              "<torch._C.Generator at 0x7f7e92e65750>"
            ]
          },
          "metadata": {
            "tags": []
          },
          "execution_count": 25
        }
      ]
    },
    {
      "cell_type": "code",
      "metadata": {
        "colab": {
          "base_uri": "https://localhost:8080/"
        },
        "id": "Ia747hTPrn1X",
        "outputId": "58630986-d782-4706-ed43-145574d24975"
      },
      "source": [
        "# Data declaration\n",
        "X = torch.Tensor([[0,0], [0,1], [1,0], [1,1]])\n",
        "Y = torch.Tensor([0, 1, 1, 0]).view(-1,1)\n",
        "\n",
        "print(X)\n",
        "print(Y)"
      ],
      "execution_count": 26,
      "outputs": [
        {
          "output_type": "stream",
          "text": [
            "tensor([[0., 0.],\n",
            "        [0., 1.],\n",
            "        [1., 0.],\n",
            "        [1., 1.]])\n",
            "tensor([[0.],\n",
            "        [1.],\n",
            "        [1.],\n",
            "        [0.]])\n"
          ],
          "name": "stdout"
        }
      ]
    },
    {
      "cell_type": "code",
      "metadata": {
        "id": "mMBQxmmcr0nU"
      },
      "source": [
        "# Model Definition\n",
        "class XOR(nn.Module):\n",
        "    def __init__(self, input_dim = 2, output_dim=1):\n",
        "        super(XOR, self).__init__()\n",
        "        self.lin1 = nn.Linear(input_dim, 11)\n",
        "        self.lin2 = nn.Linear(11, output_dim, bias=False)\n",
        "    \n",
        "    def forward(self, x):\n",
        "        x = self.lin1(x)\n",
        "        x = F.tanh(x)\n",
        "        x = self.lin2(x)\n",
        "        return x"
      ],
      "execution_count": 27,
      "outputs": []
    },
    {
      "cell_type": "code",
      "metadata": {
        "colab": {
          "base_uri": "https://localhost:8080/"
        },
        "id": "OeGkZZoEsIC9",
        "outputId": "438f653d-daaa-4412-9153-bc0027f93cff"
      },
      "source": [
        "model = XOR()\n",
        "print(model)\n",
        "from torchsummary import summary\n",
        "summary(model, (2,2))"
      ],
      "execution_count": 28,
      "outputs": [
        {
          "output_type": "stream",
          "text": [
            "XOR(\n",
            "  (lin1): Linear(in_features=2, out_features=11, bias=True)\n",
            "  (lin2): Linear(in_features=11, out_features=1, bias=False)\n",
            ")\n",
            "----------------------------------------------------------------\n",
            "        Layer (type)               Output Shape         Param #\n",
            "================================================================\n",
            "            Linear-1                [-1, 2, 11]              33\n",
            "            Linear-2                 [-1, 2, 1]              11\n",
            "================================================================\n",
            "Total params: 44\n",
            "Trainable params: 44\n",
            "Non-trainable params: 0\n",
            "----------------------------------------------------------------\n",
            "Input size (MB): 0.00\n",
            "Forward/backward pass size (MB): 0.00\n",
            "Params size (MB): 0.00\n",
            "Estimated Total Size (MB): 0.00\n",
            "----------------------------------------------------------------\n"
          ],
          "name": "stdout"
        },
        {
          "output_type": "stream",
          "text": [
            "/usr/local/lib/python3.7/dist-packages/torch/nn/functional.py:1698: UserWarning: nn.functional.tanh is deprecated. Use torch.tanh instead.\n",
            "  warnings.warn(\"nn.functional.tanh is deprecated. Use torch.tanh instead.\")\n"
          ],
          "name": "stderr"
        }
      ]
    },
    {
      "cell_type": "code",
      "metadata": {
        "id": "win2mTUgsLtj"
      },
      "source": [
        "def weights_init(model):\n",
        "    for m in model.modules():\n",
        "        if isinstance(m, nn.Linear):\n",
        "            # initialize the weight tensor, here we use a normal distribution\n",
        "            m.weight.data.normal_(0, 1)\n",
        "\n",
        "weights_init(model)"
      ],
      "execution_count": 29,
      "outputs": []
    },
    {
      "cell_type": "code",
      "metadata": {
        "id": "0YwLpoCFsQey"
      },
      "source": [
        "loss_func = nn.L1Loss()"
      ],
      "execution_count": 30,
      "outputs": []
    },
    {
      "cell_type": "code",
      "metadata": {
        "id": "2teIP2iFsUTX"
      },
      "source": [
        "optimizer = optim.SGD(model.parameters(), lr=0.02, momentum=0.9)\n"
      ],
      "execution_count": 31,
      "outputs": []
    },
    {
      "cell_type": "code",
      "metadata": {
        "colab": {
          "base_uri": "https://localhost:8080/"
        },
        "id": "oO0NHMIAsVzm",
        "outputId": "3d694b71-56e8-4a41-c58f-08f46766d87c"
      },
      "source": [
        "epochs = 2001\n",
        "steps = X.size(0)\n",
        "for i in range(epochs):\n",
        "    for j in range(steps):\n",
        "        data_point = np.random.randint(X.size(0))\n",
        "        x_var = Variable(X[data_point], requires_grad=False)\n",
        "        y_var = Variable(Y[data_point], requires_grad=False)\n",
        "        \n",
        "        optimizer.zero_grad()\n",
        "        y_hat = model(x_var)\n",
        "        loss = loss_func.forward(y_hat, y_var)\n",
        "        loss.backward()\n",
        "        optimizer.step()\n",
        "        \n",
        "    if i % 50 == 0:\n",
        "        print( \"Epoch: {0}, Loss: {1}, \".format(i, loss.data.numpy()))"
      ],
      "execution_count": 32,
      "outputs": [
        {
          "output_type": "stream",
          "text": [
            "/usr/local/lib/python3.7/dist-packages/torch/nn/functional.py:1698: UserWarning: nn.functional.tanh is deprecated. Use torch.tanh instead.\n",
            "  warnings.warn(\"nn.functional.tanh is deprecated. Use torch.tanh instead.\")\n"
          ],
          "name": "stderr"
        },
        {
          "output_type": "stream",
          "text": [
            "Epoch: 0, Loss: 0.12764477729797363, \n",
            "Epoch: 50, Loss: 0.08006787300109863, \n",
            "Epoch: 100, Loss: 0.183396577835083, \n",
            "Epoch: 150, Loss: 0.06757116317749023, \n",
            "Epoch: 200, Loss: 0.2161666303873062, \n",
            "Epoch: 250, Loss: 0.10239129513502121, \n",
            "Epoch: 300, Loss: 0.47992193698883057, \n",
            "Epoch: 350, Loss: 0.14440417289733887, \n",
            "Epoch: 400, Loss: 0.6412689089775085, \n",
            "Epoch: 450, Loss: 0.21699082851409912, \n",
            "Epoch: 500, Loss: 0.29984337091445923, \n",
            "Epoch: 550, Loss: 0.1289260983467102, \n",
            "Epoch: 600, Loss: 0.15603584051132202, \n",
            "Epoch: 650, Loss: 0.27837809920310974, \n",
            "Epoch: 700, Loss: 0.19077688455581665, \n",
            "Epoch: 750, Loss: 0.2137058675289154, \n",
            "Epoch: 800, Loss: 0.433088481426239, \n",
            "Epoch: 850, Loss: 0.04182806611061096, \n",
            "Epoch: 900, Loss: 0.11531545966863632, \n",
            "Epoch: 950, Loss: 0.08026231080293655, \n",
            "Epoch: 1000, Loss: 0.18920284509658813, \n",
            "Epoch: 1050, Loss: 0.04527997970581055, \n",
            "Epoch: 1100, Loss: 0.003001093864440918, \n",
            "Epoch: 1150, Loss: 0.07547104358673096, \n",
            "Epoch: 1200, Loss: 0.5701366662979126, \n",
            "Epoch: 1250, Loss: 0.08949720859527588, \n",
            "Epoch: 1300, Loss: 0.9055313467979431, \n",
            "Epoch: 1350, Loss: 0.12443041801452637, \n",
            "Epoch: 1400, Loss: 0.20455098152160645, \n",
            "Epoch: 1450, Loss: 0.4839877486228943, \n",
            "Epoch: 1500, Loss: 0.09049844741821289, \n",
            "Epoch: 1550, Loss: 0.21946191787719727, \n",
            "Epoch: 1600, Loss: 0.19659686088562012, \n",
            "Epoch: 1650, Loss: 0.09530901908874512, \n",
            "Epoch: 1700, Loss: 0.17871719598770142, \n",
            "Epoch: 1750, Loss: 0.3562096357345581, \n",
            "Epoch: 1800, Loss: 0.7228078842163086, \n",
            "Epoch: 1850, Loss: 0.4233800768852234, \n",
            "Epoch: 1900, Loss: 0.46267247200012207, \n",
            "Epoch: 1950, Loss: 0.14771044254302979, \n",
            "Epoch: 2000, Loss: 0.00552678108215332, \n"
          ],
          "name": "stdout"
        }
      ]
    },
    {
      "cell_type": "code",
      "metadata": {
        "id": "Ro9F6BRPte3n"
      },
      "source": [
        ""
      ],
      "execution_count": null,
      "outputs": []
    }
  ]
}